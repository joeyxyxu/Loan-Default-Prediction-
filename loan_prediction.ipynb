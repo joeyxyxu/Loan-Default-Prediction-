{
 "cells": [
  {
   "cell_type": "code",
   "execution_count": 16,
   "metadata": {
    "collapsed": false
   },
   "outputs": [],
   "source": [
    "import torch\n",
    "import torch.autograd as autograd\n",
    "import numpy as np\n",
    "import torch.optim as optim\n",
    "\n",
    "# This method creates a pytorch model\n",
    "def create_model(idim, odim, hdim1, hdim2):\n",
    "    model = torch.nn.Sequential(\n",
    "            torch.nn.Linear(idim, hdim1),\n",
    "            torch.nn.BatchNorm1d(hdim1),\n",
    "            torch.nn.LeakyReLU(0.1),\n",
    "            torch.nn.Linear(hdim1, hdim2),\n",
    "            torch.nn.BatchNorm1d(hdim1),\n",
    "            torch.nn.LeakyReLU(0.1),\n",
    "            torch.nn.Linear(hdim2, odim),\n",
    "            torch.nn.LogSoftmax()\n",
    "            )\n",
    "    return model"
   ]
  },
  {
   "cell_type": "code",
   "execution_count": 79,
   "metadata": {
    "collapsed": true
   },
   "outputs": [],
   "source": [
    "# This method trains a model with the given data\n",
    "# Epoch is the number of training iterations\n",
    "# lrate is the learning rate\n",
    "def nn_train(train_x, train_y, model, epoch, lrate, batch_size):\n",
    "    inputs = []\n",
    "\n",
    "\n",
    "    loss_fn = torch.nn.NLLLoss()\n",
    "    optimizer = torch.optim.Adam(model.parameters(), lr=lrate)\n",
    "\n",
    "    for itr in range(epoch):\n",
    "        ## MINI-BATCH: Shuffles the training data to sample without replacement\n",
    "        indices = list(range(0, train_x.shape[0]))\n",
    "        np.random.shuffle(indices)\n",
    "        train_x = train_x[indices,:]\n",
    "        train_y = train_y[indices]\n",
    "        for i in range(0, train_x.shape[0], batch_size):\n",
    "            # Get pair of (X, y) of the current mini-batch\n",
    "            x_batch = train_x[i:i+batch_size]\n",
    "            y_batch = train_y[i:i+batch_size]\n",
    "            \n",
    "            X = autograd.Variable(torch.from_numpy(x_batch), requires_grad=True).float()\n",
    "            Y = autograd.Variable(torch.from_numpy(y_batch), requires_grad=False).long()  \n",
    "            \n",
    "            y_pred = model(X)\n",
    "\n",
    "            loss = loss_fn(y_pred, Y)\n",
    "            optimizer.zero_grad()\n",
    "            loss.backward()\n",
    "            optimizer.step()\n",
    "#        print(\"Epoch: {}  Acc: {}\".format(itr,nn_test(test_x,test_y,model)))\n",
    "\n",
    "    return model"
   ]
  },
  {
   "cell_type": "code",
   "execution_count": 18,
   "metadata": {
    "collapsed": true
   },
   "outputs": [],
   "source": [
    "# Pass the trained model along with test data to this method to get accuracy\n",
    "# The method return accuracy value\n",
    "def nn_test(test_x, test_y, model):\n",
    "\n",
    "    X = autograd.Variable(torch.from_numpy(test_x), requires_grad=False).float()\n",
    "    y_pred = model(X)\n",
    "    _ , idx = torch.max(y_pred, 1)\n",
    "\n",
    "#    test_y = test_y.values[:,0]\n",
    "    return (1.*np.count_nonzero((idx.data.numpy() == test_y).astype('uint8')))/len(test_y)"
   ]
  },
  {
   "cell_type": "code",
   "execution_count": 19,
   "metadata": {
    "collapsed": true
   },
   "outputs": [],
   "source": [
    "def normalize(data_list):\n",
    "    # compute normalization parameter\n",
    "    utter = np.concatenate(data_list, axis=0)\n",
    "    mean  = np.mean(utter)\n",
    "    utter -= mean\n",
    "    std   = np.std(utter)\n",
    "    utter /= std\n",
    "\n",
    "    # normalize data\n",
    "    for data in data_list:\n",
    "        data -= mean\n",
    "        data /= std\n",
    "\n",
    "    return data_list"
   ]
  },
  {
   "cell_type": "code",
   "execution_count": 20,
   "metadata": {
    "collapsed": true
   },
   "outputs": [],
   "source": [
    "# Method reads training data and drops loan id field\n",
    "def read_train_data(filename):\n",
    "    f = open(filename, \"r\")\n",
    "    x = []\n",
    "    y = []\n",
    "    content = f.readlines() \n",
    "\n",
    "    for i in range(1, len(content)):\n",
    "        line = content[i]\n",
    "        line.strip()\n",
    "        line = line.split(\",\")\n",
    "        y.append(line[len(line)-1])\n",
    "        line = line[1:len(line)-1]\n",
    "        x.append(line)\n",
    "\n",
    "\n",
    "    x = np.array(x)\n",
    "    x = x.astype(np.float)\n",
    "\n",
    "    y = np.array(y)\n",
    "    y = y.astype(np.int)\n",
    "    return (x,y)"
   ]
  },
  {
   "cell_type": "code",
   "execution_count": 21,
   "metadata": {
    "collapsed": true
   },
   "outputs": [],
   "source": [
    "# Method reads features of test data\n",
    "def read_test_data_x(filename):\n",
    "    f = open(filename, \"r\")\n",
    "    x = []\n",
    "    content = f.readlines() \n",
    "\n",
    "    for i in range(1, len(content)):\n",
    "        line = content[i]\n",
    "        line.strip()\n",
    "        line = line.split(\",\")\n",
    "        line = line[1:len(line)-1]\n",
    "        x.append(line)\n",
    "\n",
    "\n",
    "    x = np.array(x)\n",
    "    x = x.astype(np.float)\n",
    "\n",
    "    return x\n"
   ]
  },
  {
   "cell_type": "code",
   "execution_count": 22,
   "metadata": {
    "collapsed": true
   },
   "outputs": [],
   "source": [
    "# Method reads labels of test data\n",
    "def read_test_data_y(filename):\n",
    "    f = open(filename, \"r\")\n",
    "    y = []\n",
    "    content = f.readlines() \n",
    "\n",
    "    for i in range(1, len(content)):\n",
    "        line = content[i]\n",
    "        line.strip()\n",
    "        line = line.split(\",\")\n",
    "        y.append(line[len(line)-1])\n",
    "\n",
    "\n",
    "\n",
    "    y = np.array(y)\n",
    "    y = y.astype(np.int)\n",
    "    return y"
   ]
  },
  {
   "cell_type": "code",
   "execution_count": 80,
   "metadata": {
    "collapsed": false
   },
   "outputs": [
    {
     "name": "stderr",
     "output_type": "stream",
     "text": [
      "C:\\Users\\Joey\\Anaconda3\\lib\\site-packages\\torch\\nn\\modules\\container.py:67: UserWarning: Implicit dimension choice for log_softmax has been deprecated. Change the call to include dim=X as an argument.\n",
      "  input = module(input)\n"
     ]
    },
    {
     "name": "stdout",
     "output_type": "stream",
     "text": [
      "accuracy is 0.7300949598246895, learning rate is 0.01, batch size is 100\n"
     ]
    }
   ],
   "source": [
    "# find the best gradient descent step length and the best batch size of NN\n",
    "def main():\n",
    "\n",
    "    # pytorch nn code\n",
    "    # Use this main code to understand how the methods are used\n",
    "    # There are two methods nn_train, which is used to train a model (created using create_model method)\n",
    "    # Other than data nn train takes learning rate and number of iterations as parameters. \n",
    "    # Please change the given values for your experiments.\n",
    "    # nn_train returns a trained model\n",
    "    # pass this model to nn_test to get accuracy\n",
    "    # nn_test return 0/1 accuracy \n",
    "    # Please read pytorch documentation if you need more details on implementing nn using pytorch\n",
    "    # training and test data is read as numpy arrays\n",
    "    train_x, train_y = read_train_data(\"train.csv\")\n",
    "    test_x = read_test_data_x(\"test.csv\")\n",
    "    test_y = read_test_data_y(\"pred.csv\")\n",
    "\n",
    "\n",
    "  # You can use python pandas if you want to fasten reading file , the code is commented\n",
    "  #  df = pd.read_csv(\"train.csv\")\n",
    "  #  train_x = df.drop(columns = ['Loan ID','Status (Fully Paid=1, Not Paid=0)'], axis = 1)\n",
    "  #  train_y = df['Status (Fully Paid=1, Not Paid=0)']\n",
    "  #  train_x = train_x.values\n",
    "  #  train_y = train_y.values\n",
    "\n",
    "  #  df = pd.read_csv(\"test.csv\")\n",
    "  #  test_x = df.drop(columns = ['Loan ID','Status (Fully Paid=1, Not Paid=0)'], axis = 1)\n",
    "  #  test_x = test_x.values\n",
    "  #  df = pd.read_csv(\"pred.csv\")\n",
    "  #  test_y = df.drop(columns = ['Loan ID'], axis = 1)\n",
    "\n",
    "    train_x[np.isnan(train_x)] = 0\n",
    "    test_x[np.isnan(test_x)] = 0\n",
    "    #print(train_x.shape, train_y.shape, test_x.shape, test_y.shape)\n",
    "    \n",
    "    train_x = normalize(train_x)\n",
    "    idim = 25  # input dimension\n",
    "    hdim1 = 64 # hidden layer one dimension\n",
    "    hdim2 = 64 # hidden layer two dimension\n",
    "    odim = 2   # output dimension\n",
    "    best_model = None\n",
    "    best_acc_nn = 0\n",
    "    best_learning_rate = 0 \n",
    "    best_batch_size = 0\n",
    "    \n",
    "    for learning_rate in [1, 1e-1, 1e-2]:\n",
    "        for batch_size in [300, 500, 800]:\n",
    "            model = create_model(idim, odim, hdim1, hdim2) # creating model structure\n",
    "            trained_model = nn_train(train_x, train_y, model, 300, learning_rate, batch_size) # training model\n",
    "            acc_nn = nn_test(test_x, test_y, trained_model) # testing model\n",
    "            if acc_nn > best_acc_nn:\n",
    "                best_acc_nn = acc_nn\n",
    "                best_model = model\n",
    "                best_learning_rate = learning_rate\n",
    "                best_batch_size = batch_size\n",
    "    \n",
    "    print(\"accuracy is {}, learning rate is {}, batch size is {}\" .format(best_acc_nn, best_learning_rate, best_batch_size))\n",
    "\n",
    "main()"
   ]
  },
  {
   "cell_type": "code",
   "execution_count": 24,
   "metadata": {
    "collapsed": false
   },
   "outputs": [],
   "source": [
    "import numpy as np\n",
    "import seaborn as sns\n",
    "import matplotlib.pyplot as plt\n",
    "from sklearn.metrics import confusion_matrix\n",
    "import pandas as pd\n",
    "from sklearn.metrics import roc_auc_score\n",
    "from sklearn import metrics\n",
    "from sklearn import linear_model\n",
    "from sklearn.model_selection import train_test_split"
   ]
  },
  {
   "cell_type": "code",
   "execution_count": 133,
   "metadata": {
    "collapsed": false
   },
   "outputs": [
    {
     "name": "stdout",
     "output_type": "stream",
     "text": [
      "[0 1 0 ..., 1 1 0]\n"
     ]
    }
   ],
   "source": [
    "#import dataset\n",
    "train_x, train_y = read_train_data(\"train.csv\")\n",
    "test_x = read_test_data_x(\"test.csv\")\n",
    "test_y = read_test_data_y(\"pred.csv\")\n",
    "train_x[np.isnan(train_x)] = 0\n",
    "test_x[np.isnan(test_x)] = 0\n"
   ]
  },
  {
   "cell_type": "code",
   "execution_count": 117,
   "metadata": {
    "collapsed": false
   },
   "outputs": [
    {
     "name": "stderr",
     "output_type": "stream",
     "text": [
      "C:\\Users\\Joey\\Anaconda3\\lib\\site-packages\\torch\\nn\\modules\\container.py:67: UserWarning: Implicit dimension choice for log_softmax has been deprecated. Change the call to include dim=X as an argument.\n",
      "  input = module(input)\n"
     ]
    },
    {
     "name": "stdout",
     "output_type": "stream",
     "text": [
      "[ 0.52496388  0.46311877  0.50173153  0.50757659  0.43633879  0.4993957 ]\n"
     ]
    }
   ],
   "source": [
    "from sklearn import metrics\n",
    "from sklearn.metrics import roc_auc_score\n",
    "#calculate AUC Score over testing set\n",
    "#import dataset\n",
    "train_x, train_y = read_train_data(\"train.csv\")\n",
    "test_x = read_test_data_x(\"test.csv\")\n",
    "test_y = read_test_data_y(\"pred.csv\")\n",
    "train_x[np.isnan(train_x)] = 0\n",
    "test_x[np.isnan(test_x)] = 0\n",
    "nn_test_auc = []\n",
    "for i in [0.1, 0.3, 0.5, 0.7, 0.9, 1 ]:\n",
    "    ii = int(i * train_x.shape[0])\n",
    "    np.random.shuffle(train_x)\n",
    "    x_nn_train = train_x[0:ii,:]\n",
    "    y_nn_train = train_y[0:ii]\n",
    "    x_nn_train = normalize(x_nn_train)\n",
    "    idim = 25  # input dimension\n",
    "    hdim1 = 64 # hidden layer one dimension\n",
    "    hdim2 = 64 # hidden layer two dimension\n",
    "    odim = 2   # output dimension\n",
    "\n",
    "    model = create_model(idim, odim, hdim1, hdim2) # creating model structure\n",
    "    trained_model = nn_train(x_nn_train, y_nn_train, model, 300, 0.01, 100) # training model\n",
    "    X = autograd.Variable(torch.from_numpy(test_x), requires_grad=False).float()\n",
    "    y_pred = trained_model(X)\n",
    "    _ , idx = torch.max(y_pred, 1)\n",
    "    \n",
    "    fpr, tpr, thresholds = metrics.roc_curve(test_y, idx.data.numpy())\n",
    "    nn_test_auc = np.append(nn_test_auc, metrics.auc(fpr, tpr))\n",
    "print(nn_test_auc)"
   ]
  },
  {
   "cell_type": "code",
   "execution_count": 120,
   "metadata": {
    "collapsed": false
   },
   "outputs": [
    {
     "name": "stderr",
     "output_type": "stream",
     "text": [
      "C:\\Users\\Joey\\Anaconda3\\lib\\site-packages\\torch\\nn\\modules\\container.py:67: UserWarning: Implicit dimension choice for log_softmax has been deprecated. Change the call to include dim=X as an argument.\n",
      "  input = module(input)\n"
     ]
    },
    {
     "name": "stdout",
     "output_type": "stream",
     "text": [
      "[ 0.81323416  0.50789204  0.51011275  0.5         0.50627057  0.5       ]\n"
     ]
    }
   ],
   "source": [
    "from sklearn import metrics\n",
    "from sklearn.metrics import roc_auc_score\n",
    "#calculate AUC Score over training set\n",
    "#import dataset\n",
    "train_x, train_y = read_train_data(\"train.csv\")\n",
    "test_x = read_test_data_x(\"test.csv\")\n",
    "test_y = read_test_data_y(\"pred.csv\")\n",
    "train_x[np.isnan(train_x)] = 0\n",
    "test_x[np.isnan(test_x)] = 0\n",
    "nn_train_auc = []\n",
    "for i in [0.1, 0.3, 0.5, 0.7, 0.9, 1]:\n",
    "    ii = int(i * train_x.shape[0])\n",
    "    np.random.shuffle(train_x)\n",
    "    x_nn_train = train_x[0:ii,:]\n",
    "    y_nn_train = train_y[0:ii]\n",
    "    x_nn_train = normalize(x_nn_train)\n",
    "    idim = 25  # input dimension\n",
    "    hdim1 = 64 # hidden layer one dimension\n",
    "    hdim2 = 64 # hidden layer two dimension\n",
    "    odim = 2   # output dimension\n",
    "    \n",
    "    model = create_model(idim, odim, hdim1, hdim2) # creating model structure\n",
    "    trained_model = nn_train(x_nn_train, y_nn_train, model, 300, 0.01, 100) # training model\n",
    "    X = autograd.Variable(torch.from_numpy(x_nn_train), requires_grad=False).float()\n",
    "    y_pred = trained_model(X)\n",
    "    _ , idx = torch.max(y_pred, 1)\n",
    "    \n",
    "    fpr, tpr, thresholds = metrics.roc_curve(y_nn_train, idx.data.numpy())\n",
    "    nn_train_auc = np.append(nn_train_auc, metrics.auc(fpr, tpr))\n",
    "print(nn_train_auc)"
   ]
  },
  {
   "cell_type": "code",
   "execution_count": 121,
   "metadata": {
    "collapsed": false
   },
   "outputs": [
    {
     "name": "stderr",
     "output_type": "stream",
     "text": [
      "C:\\Users\\Joey\\Anaconda3\\lib\\site-packages\\ipykernel\\__main__.py:9: MatplotlibDeprecationWarning: pyplot.hold is deprecated.\n",
      "    Future behavior will be consistent with the long-time default:\n",
      "    plot commands add elements without first clearing the\n",
      "    Axes and/or Figure.\n",
      "C:\\Users\\Joey\\Anaconda3\\lib\\site-packages\\matplotlib\\__init__.py:917: UserWarning: axes.hold is deprecated. Please remove it from your matplotlibrc and/or style files.\n",
      "  warnings.warn(self.msg_depr_set % key)\n",
      "C:\\Users\\Joey\\Anaconda3\\lib\\site-packages\\matplotlib\\rcsetup.py:152: UserWarning: axes.hold is deprecated, will be removed in 3.0\n",
      "  warnings.warn(\"axes.hold is deprecated, will be removed in 3.0\")\n"
     ]
    },
    {
     "data": {
      "image/png": "[encoded data removed]",
      "text/plain": [
       "<matplotlib.figure.Figure at 0x1ae74e204e0>"
      ]
     },
     "metadata": {},
     "output_type": "display_data"
    }
   ],
   "source": [
    "from numpy import *\n",
    "from matplotlib.pyplot import *\n",
    "t=[0.1, 0.3, 0.5, 0.7, 0.9, 1]\n",
    "#y1 = auc_test\n",
    "#y2 = auc_train\n",
    "y1 = nn_test_auc\n",
    "y2 = nn_train_auc\n",
    "plot(t, y1, 'r-')\n",
    "hold('on')\n",
    "plot(t, y2, 'b-')\n",
    "xlabel('traning data size')\n",
    "ylabel('AUC Score')\n",
    "legend(['AUC over testing set', 'AUC over training set'])\n",
    "title('learning curve for different training data sizes')\n",
    "show()"
   ]
  },
  {
   "cell_type": "code",
   "execution_count": 116,
   "metadata": {
    "collapsed": false
   },
   "outputs": [
    {
     "name": "stderr",
     "output_type": "stream",
     "text": [
      "C:\\Users\\Joey\\Anaconda3\\lib\\site-packages\\torch\\nn\\modules\\container.py:67: UserWarning: Implicit dimension choice for log_softmax has been deprecated. Change the call to include dim=X as an argument.\n",
      "  input = module(input)\n"
     ]
    },
    {
     "name": "stdout",
     "output_type": "stream",
     "text": [
      "[ 0.7368608   0.74573864  0.71803977  0.73046875  0.71697443  0.72088068\n",
      "  0.75142045  0.73899148  0.74005682  0.73508523]\n",
      "0.733451704545\n"
     ]
    }
   ],
   "source": [
    "# cross validation for NN\n",
    "from sklearn.metrics import accuracy_score\n",
    "from sklearn.model_selection import train_test_split\n",
    "\n",
    "train_x, train_y = read_train_data(\"train.csv\")\n",
    "test_x = read_test_data_x(\"test.csv\")\n",
    "test_y = read_test_data_y(\"pred.csv\")\n",
    "train_x[np.isnan(train_x)] = 0\n",
    "test_x[np.isnan(test_x)] = 0\n",
    "data_x = np.concatenate((train_x, test_x), axis=0)\n",
    "data_y = np.concatenate((train_y, test_y), axis=0)\n",
    "\n",
    "idim = 25  # input dimension\n",
    "hdim1 = 64 # hidden layer one dimension\n",
    "hdim2 = 64 # hidden layer two dimension\n",
    "odim = 2   # output dimension\n",
    "cv_score_nn = []\n",
    "\n",
    "for i in range(10):\n",
    "    x_train, x_test, y_train, y_test = train_test_split(data_x, data_y, test_size=0.1)\n",
    "    model = create_model(idim, odim, hdim1, hdim2) # creating model structure\n",
    "    trained_model = nn_train(x_train, y_train, model, 300, 0.01, 100) # training model\n",
    "    cv_score_nn =np.append(cv_score_nn, nn_test(x_test, y_test, trained_model)) # testing model \n",
    "print(cv_score_nn)\n",
    "print(cv_score_nn.mean())"
   ]
  },
  {
   "cell_type": "code",
   "execution_count": 26,
   "metadata": {
    "collapsed": false
   },
   "outputs": [
    {
     "name": "stdout",
     "output_type": "stream",
     "text": [
      "[ 0.59934259  0.67080594  0.68979791  0.6945459   0.68492817  0.69844168]\n"
     ]
    }
   ],
   "source": [
    "# Train a logistic regression classfier\n",
    "# Use L2 norm and find the best regularizer\n",
    "\n",
    "from sklearn.metrics import accuracy_score\n",
    "accuracy = []\n",
    "for c in [1e-8, 1e-6, 1e-4, 1e-2, 1e-1, 1]:\n",
    "    logreg = linear_model.LogisticRegression(penalty='l2', C=c, multi_class='ovr')\n",
    "    logreg.fit(train_x, train_y)\n",
    "    pred_y = logreg.predict(test_x)\n",
    "    accuracy = np.append(accuracy, accuracy_score(test_y, pred_y))\n",
    "print(accuracy)"
   ]
  },
  {
   "cell_type": "code",
   "execution_count": 46,
   "metadata": {
    "collapsed": false
   },
   "outputs": [
    {
     "name": "stdout",
     "output_type": "stream",
     "text": [
      "accuracy_score_test= [ 0.67531045  0.67944972  0.69491113  0.67555393  0.69211103  0.69844168]\n",
      "accuracy_score_train= [ 0.67586553  0.6808226   0.70277861  0.681499    0.70413509  0.70333032]\n"
     ]
    },
    {
     "name": "stderr",
     "output_type": "stream",
     "text": [
      "C:\\Users\\Joey\\Anaconda3\\lib\\site-packages\\ipykernel\\__main__.py:34: MatplotlibDeprecationWarning: pyplot.hold is deprecated.\n",
      "    Future behavior will be consistent with the long-time default:\n",
      "    plot commands add elements without first clearing the\n",
      "    Axes and/or Figure.\n",
      "C:\\Users\\Joey\\Anaconda3\\lib\\site-packages\\matplotlib\\__init__.py:917: UserWarning: axes.hold is deprecated. Please remove it from your matplotlibrc and/or style files.\n",
      "  warnings.warn(self.msg_depr_set % key)\n",
      "C:\\Users\\Joey\\Anaconda3\\lib\\site-packages\\matplotlib\\rcsetup.py:152: UserWarning: axes.hold is deprecated, will be removed in 3.0\n",
      "  warnings.warn(\"axes.hold is deprecated, will be removed in 3.0\")\n"
     ]
    },
    {
     "data": {
      "image/png": "[encoded data removed]",
      "text/plain": [
       "<matplotlib.figure.Figure at 0x1ae74e45400>"
      ]
     },
     "metadata": {},
     "output_type": "display_data"
    }
   ],
   "source": [
    "# Calculate accuracy over different training size in order to plot the learning curve\n",
    "from sklearn.metrics import accuracy_score\n",
    "\n",
    "accuracy_test = []\n",
    "for i in [0.1, 0.3, 0.5, 0.7, 0.9, 1]:\n",
    "    ii = int(i * train_x.shape[0]) \n",
    "    logreg = linear_model.LogisticRegression(penalty='l2', C=1, multi_class='ovr')\n",
    "    logreg.fit(train_x[0:ii,:], train_y[0:ii])\n",
    "    pred_y = logreg.predict(test_x)\n",
    "    accuracy_test = np.append(accuracy_test, accuracy_score(test_y, pred_y))\n",
    "    #auc_test = np.append(auc_test, roc_auc_score(test_y, pred_y))\n",
    "#print(\"auc_test=\", auc_test)\n",
    "print(\"accuracy_score_test=\", accuracy_test)\n",
    "\n",
    "accuracy_train = []\n",
    "for i in [0.1, 0.3, 0.5, 0.7, 0.9, 1]:\n",
    "    ii = int(i * train_x.shape[0]) \n",
    "    logreg = linear_model.LogisticRegression(penalty='l2', C=1, multi_class='ovr')\n",
    "    logreg.fit(train_x[0:ii,:], train_y[0:ii])\n",
    "    pred_y = logreg.predict(train_x[0:ii])\n",
    "    accuracy_train = np.append(accuracy_train, accuracy_score(train_y[0:ii], pred_y))\n",
    "    #auc_train = np.append(auc_train, roc_auc_score(train_y, pred_y))\n",
    "#print(\"auc_train=\", auc_train)\n",
    "print(\"accuracy_score_train=\", accuracy_train)\n",
    "\n",
    "# Plot learning curve\n",
    "from numpy import *\n",
    "from matplotlib.pyplot import *\n",
    "t=[0.1, 0.3, 0.5, 0.7, 0.9, 1]\n",
    "#y1 = auc_test\n",
    "#y2 = auc_train\n",
    "y1 = accuracy_test\n",
    "y2 = accuracy_train\n",
    "plot(t, y1, 'r-')\n",
    "hold('on')\n",
    "plot(t, y2, 'b-')\n",
    "xlabel('traning data size')\n",
    "ylabel('Accuracy')\n",
    "legend(['Accuracy over testing set', 'Accuracy over training set'])\n",
    "title('learning curve for different training data sizes')\n",
    "show()\n"
   ]
  },
  {
   "cell_type": "code",
   "execution_count": 60,
   "metadata": {
    "collapsed": false
   },
   "outputs": [
    {
     "name": "stdout",
     "output_type": "stream",
     "text": [
      "(19938,)\n",
      "(8214,)\n",
      "(28152, 25)\n",
      "(28152,)\n"
     ]
    }
   ],
   "source": [
    "# Concatenate the dataset in order to implement the sklearn CV\n",
    "\n",
    "from sklearn.model_selection import cross_val_predict\n",
    "#import dataset\n",
    "train_x, train_y = read_train_data(\"train.csv\")\n",
    "test_x = read_test_data_x(\"test.csv\")\n",
    "test_y = read_test_data_y(\"pred.csv\")\n",
    "train_x[np.isnan(train_x)] = 0\n",
    "test_x[np.isnan(test_x)] = 0\n",
    "data_x = np.concatenate((train_x, test_x), axis=0)\n",
    "data_y = np.concatenate((train_y, test_y), axis=0)\n",
    "print(train_y.shape)\n",
    "print(test_y.shape)\n",
    "print(data_x.shape)\n",
    "print(data_y.shape)"
   ]
  },
  {
   "cell_type": "code",
   "execution_count": 109,
   "metadata": {
    "collapsed": false
   },
   "outputs": [
    {
     "name": "stdout",
     "output_type": "stream",
     "text": [
      "[ 0.6943557   0.69626998  0.71083481  0.7044405   0.70479574  0.70586146\n",
      "  0.69769094  0.70408526  0.69769094  0.68383659]\n",
      "0.699986191425\n"
     ]
    }
   ],
   "source": [
    "from sklearn import cross_validation\n",
    "from sklearn.model_selection import cross_val_predict\n",
    "from sklearn.metrics import accuracy_score\n",
    "logreg = linear_model.LogisticRegression(penalty='l2', C=1, multi_class='ovr')\n",
    "logreg.fit(data_x, data_y)\n",
    "cv_score_log = cross_validation.cross_val_score(logreg, data_x, data_y, cv=10)\n",
    "# cross validation score for logistic regression\n",
    "print(cv_score_log)\n",
    "print(cv_score_log.mean())"
   ]
  },
  {
   "cell_type": "code",
   "execution_count": 68,
   "metadata": {
    "collapsed": false
   },
   "outputs": [
    {
     "name": "stdout",
     "output_type": "stream",
     "text": [
      "Accuracy over testing set= [ 0.77392257  0.80472364  0.82213294  0.83004626  0.83223764  0.84258583]\n",
      "Accuracy over training set = [ 0.99598595  0.94081257  0.91694252  0.89595873  0.89054837  0.88765172]\n"
     ]
    },
    {
     "name": "stderr",
     "output_type": "stream",
     "text": [
      "C:\\Users\\Joey\\Anaconda3\\lib\\site-packages\\ipykernel\\__main__.py:42: MatplotlibDeprecationWarning: pyplot.hold is deprecated.\n",
      "    Future behavior will be consistent with the long-time default:\n",
      "    plot commands add elements without first clearing the\n",
      "    Axes and/or Figure.\n",
      "C:\\Users\\Joey\\Anaconda3\\lib\\site-packages\\matplotlib\\__init__.py:917: UserWarning: axes.hold is deprecated. Please remove it from your matplotlibrc and/or style files.\n",
      "  warnings.warn(self.msg_depr_set % key)\n",
      "C:\\Users\\Joey\\Anaconda3\\lib\\site-packages\\matplotlib\\rcsetup.py:152: UserWarning: axes.hold is deprecated, will be removed in 3.0\n",
      "  warnings.warn(\"axes.hold is deprecated, will be removed in 3.0\")\n"
     ]
    },
    {
     "data": {
      "image/png": "[encoded data removed]",
      "text/plain": [
       "<matplotlib.figure.Figure at 0x1ae738585f8>"
      ]
     },
     "metadata": {},
     "output_type": "display_data"
    }
   ],
   "source": [
    "# Train a gradient boosting classifier\n",
    "from sklearn.ensemble import GradientBoostingClassifier\n",
    "from sklearn.metrics import accuracy_score\n",
    "#import dataset\n",
    "train_x, train_y = read_train_data(\"train.csv\")\n",
    "test_x = read_test_data_x(\"test.csv\")\n",
    "test_y = read_test_data_y(\"pred.csv\")\n",
    "train_x[np.isnan(train_x)] = 0\n",
    "test_x[np.isnan(test_x)] = 0\n",
    "\n",
    "acc_gb_test = []\n",
    "for i in [0.1, 0.3, 0.5, 0.7, 0.9, 1]:\n",
    "    ii = int(i * train_x.shape[0]) \n",
    "    model = GradientBoostingClassifier(learning_rate=0.1, max_depth=6)\n",
    "    model.fit(train_x[0:ii,:], train_y[0:ii])\n",
    "    # make predictions for test data\n",
    "    y_pred = model.predict(test_x)\n",
    "    predictions = [round(value) for value in y_pred]\n",
    "    # evaluate predictions\n",
    "    acc_gb_test = np.append(acc_gb_test, accuracy_score(test_y, predictions))\n",
    "print(\"Accuracy over testing set=\", acc_gb_test)\n",
    "\n",
    "acc_gb_train = []\n",
    "for i in [0.1, 0.3, 0.5, 0.7, 0.9, 1]:\n",
    "    ii = int(i * train_x.shape[0]) \n",
    "    model = GradientBoostingClassifier(learning_rate=0.1, max_depth=6)\n",
    "    model.fit(train_x[0:ii,:], train_y[0:ii])\n",
    "    # make predictions for test data\n",
    "    y_pred = model.predict(train_x[0:ii,:])\n",
    "    predictions = [round(value) for value in y_pred]\n",
    "    # evaluate predictions\n",
    "    acc_gb_train = np.append(acc_gb_train, accuracy_score(train_y[0:ii], predictions))\n",
    "print(\"Accuracy over training set =\", acc_gb_train)\n",
    "\n",
    "# plot the learning curve of Gradient Boosting \n",
    "from numpy import *\n",
    "from matplotlib.pyplot import *\n",
    "t=[0.1, 0.3, 0.5, 0.7, 0.9, 1]\n",
    "#y1 = auc_test\n",
    "#y2 = auc_train\n",
    "y1 = acc_gb_test\n",
    "y2 = acc_gb_train\n",
    "plot(t, y1, 'r-')\n",
    "hold('on')\n",
    "plot(t, y2, 'b-')\n",
    "xlabel('traning data size')\n",
    "ylabel('Accuracy')\n",
    "legend(['Accuracy over testing set', 'Accuracy over training set'])\n",
    "title('learning curve for different training data sizes')\n",
    "show()"
   ]
  },
  {
   "cell_type": "code",
   "execution_count": 107,
   "metadata": {
    "collapsed": false
   },
   "outputs": [
    {
     "name": "stdout",
     "output_type": "stream",
     "text": [
      "[ 0.8427405   0.83907638  0.84404973  0.84582593  0.8383659   0.8401421\n",
      "  0.83765542  0.84618117  0.84120782  0.83232682]\n"
     ]
    }
   ],
   "source": [
    "# Use cross validation \n",
    "from sklearn import cross_validation\n",
    "from sklearn.model_selection import cross_val_predict\n",
    "from sklearn.metrics import accuracy_score\n",
    "model = GradientBoostingClassifier(learning_rate=0.1, max_depth=6)\n",
    "model.fit(data_x, data_y)\n",
    "cv_score_gb = cross_validation.cross_val_score(model, data_x, data_y, cv=10)\n",
    "print(cv_score_gb)\n",
    "print(cv_score_gb.mean())"
   ]
  },
  {
   "cell_type": "code",
   "execution_count": 128,
   "metadata": {
    "collapsed": false
   },
   "outputs": [
    {
     "name": "stdout",
     "output_type": "stream",
     "text": [
      "[0.8427405, 0.83907638, 0.84404973, 0.84582593, 0.8383659, 0.8401421, 0.83765542, 0.84618117, 0.84120782, 0.83232682]\n",
      "[ 0.6943557   0.69626998  0.71083481  0.7044405   0.70479574  0.70586146\n",
      "  0.69769094  0.70408526  0.69769094  0.68383659]\n"
     ]
    },
    {
     "data": {
      "text/plain": [
       "Ttest_relResult(statistic=79.372351305581617, pvalue=4.0486600027690317e-14)"
      ]
     },
     "execution_count": 128,
     "metadata": {},
     "output_type": "execute_result"
    }
   ],
   "source": [
    "# Use hypothesis test to select for the best model among NN, Logistic, Gradient Boosting \n",
    "\n",
    "from scipy import stats\n",
    "cv_score_gb=[0.8427405, 0.83907638, 0.84404973, 0.84582593, 0.8383659, 0.8401421, 0.83765542, 0.84618117, 0.84120782, 0.83232682]\n",
    "print(cv_score_gb)\n",
    "print(cv_score_log)\n",
    "stats.ttest_rel(cv_score_gb, cv_score_log)\n",
    "print(cv_score_gb)\n",
    "print(cv_score_nn)\n",
    "stats.ttest_rel(cv_score_gb, cv_score_nn)\n",
    "\n",
    "# Since we are doing multiple hypothesis testing, Bonferroni Correction should be applied\n",
    "# It turns out gradient boosting is indeed the best model for this dataset "
   ]
  }
 ],
 "metadata": {
  "kernelspec": {
   "display_name": "Python 3",
   "language": "python",
   "name": "python3"
  },
  "language_info": {
   "codemirror_mode": {
    "name": "ipython",
    "version": 3
   },
   "file_extension": ".py",
   "mimetype": "text/x-python",
   "name": "python",
   "nbconvert_exporter": "python",
   "pygments_lexer": "ipython3",
   "version": "3.6.1"
  }
 },
 "nbformat": 4,
 "nbformat_minor": 2
}
